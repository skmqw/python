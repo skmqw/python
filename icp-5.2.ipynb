{
 "cells": [
  {
   "cell_type": "code",
   "execution_count": 1,
   "id": "87cb964b",
   "metadata": {
    "scrolled": true
   },
   "outputs": [
    {
     "ename": "FileNotFoundError",
     "evalue": "[Errno 2] No such file or directory: 'C:\\\\Users\\\\sreev\\\\glass.csv'",
     "output_type": "error",
     "traceback": [
      "\u001b[1;31m---------------------------------------------------------------------------\u001b[0m",
      "\u001b[1;31mFileNotFoundError\u001b[0m                         Traceback (most recent call last)",
      "\u001b[1;32m<ipython-input-1-4393be313fa6>\u001b[0m in \u001b[0;36m<module>\u001b[1;34m\u001b[0m\n\u001b[0;32m     13\u001b[0m \u001b[1;33m\u001b[0m\u001b[0m\n\u001b[0;32m     14\u001b[0m \u001b[1;31m#importing dataset\u001b[0m\u001b[1;33m\u001b[0m\u001b[1;33m\u001b[0m\u001b[1;33m\u001b[0m\u001b[0m\n\u001b[1;32m---> 15\u001b[1;33m \u001b[0mglassdf\u001b[0m \u001b[1;33m=\u001b[0m \u001b[0mpd\u001b[0m\u001b[1;33m.\u001b[0m\u001b[0mread_csv\u001b[0m\u001b[1;33m(\u001b[0m\u001b[1;34m\"C:\\\\Users\\\\sreev\\\\glass.csv\"\u001b[0m\u001b[1;33m)\u001b[0m\u001b[1;33m\u001b[0m\u001b[1;33m\u001b[0m\u001b[0m\n\u001b[0m",
      "\u001b[1;32m~\\anaconda3\\lib\\site-packages\\pandas\\io\\parsers.py\u001b[0m in \u001b[0;36mread_csv\u001b[1;34m(filepath_or_buffer, sep, delimiter, header, names, index_col, usecols, squeeze, prefix, mangle_dupe_cols, dtype, engine, converters, true_values, false_values, skipinitialspace, skiprows, skipfooter, nrows, na_values, keep_default_na, na_filter, verbose, skip_blank_lines, parse_dates, infer_datetime_format, keep_date_col, date_parser, dayfirst, cache_dates, iterator, chunksize, compression, thousands, decimal, lineterminator, quotechar, quoting, doublequote, escapechar, comment, encoding, dialect, error_bad_lines, warn_bad_lines, delim_whitespace, low_memory, memory_map, float_precision, storage_options)\u001b[0m\n\u001b[0;32m    608\u001b[0m     \u001b[0mkwds\u001b[0m\u001b[1;33m.\u001b[0m\u001b[0mupdate\u001b[0m\u001b[1;33m(\u001b[0m\u001b[0mkwds_defaults\u001b[0m\u001b[1;33m)\u001b[0m\u001b[1;33m\u001b[0m\u001b[1;33m\u001b[0m\u001b[0m\n\u001b[0;32m    609\u001b[0m \u001b[1;33m\u001b[0m\u001b[0m\n\u001b[1;32m--> 610\u001b[1;33m     \u001b[1;32mreturn\u001b[0m \u001b[0m_read\u001b[0m\u001b[1;33m(\u001b[0m\u001b[0mfilepath_or_buffer\u001b[0m\u001b[1;33m,\u001b[0m \u001b[0mkwds\u001b[0m\u001b[1;33m)\u001b[0m\u001b[1;33m\u001b[0m\u001b[1;33m\u001b[0m\u001b[0m\n\u001b[0m\u001b[0;32m    611\u001b[0m \u001b[1;33m\u001b[0m\u001b[0m\n\u001b[0;32m    612\u001b[0m \u001b[1;33m\u001b[0m\u001b[0m\n",
      "\u001b[1;32m~\\anaconda3\\lib\\site-packages\\pandas\\io\\parsers.py\u001b[0m in \u001b[0;36m_read\u001b[1;34m(filepath_or_buffer, kwds)\u001b[0m\n\u001b[0;32m    460\u001b[0m \u001b[1;33m\u001b[0m\u001b[0m\n\u001b[0;32m    461\u001b[0m     \u001b[1;31m# Create the parser.\u001b[0m\u001b[1;33m\u001b[0m\u001b[1;33m\u001b[0m\u001b[1;33m\u001b[0m\u001b[0m\n\u001b[1;32m--> 462\u001b[1;33m     \u001b[0mparser\u001b[0m \u001b[1;33m=\u001b[0m \u001b[0mTextFileReader\u001b[0m\u001b[1;33m(\u001b[0m\u001b[0mfilepath_or_buffer\u001b[0m\u001b[1;33m,\u001b[0m \u001b[1;33m**\u001b[0m\u001b[0mkwds\u001b[0m\u001b[1;33m)\u001b[0m\u001b[1;33m\u001b[0m\u001b[1;33m\u001b[0m\u001b[0m\n\u001b[0m\u001b[0;32m    463\u001b[0m \u001b[1;33m\u001b[0m\u001b[0m\n\u001b[0;32m    464\u001b[0m     \u001b[1;32mif\u001b[0m \u001b[0mchunksize\u001b[0m \u001b[1;32mor\u001b[0m \u001b[0miterator\u001b[0m\u001b[1;33m:\u001b[0m\u001b[1;33m\u001b[0m\u001b[1;33m\u001b[0m\u001b[0m\n",
      "\u001b[1;32m~\\anaconda3\\lib\\site-packages\\pandas\\io\\parsers.py\u001b[0m in \u001b[0;36m__init__\u001b[1;34m(self, f, engine, **kwds)\u001b[0m\n\u001b[0;32m    817\u001b[0m             \u001b[0mself\u001b[0m\u001b[1;33m.\u001b[0m\u001b[0moptions\u001b[0m\u001b[1;33m[\u001b[0m\u001b[1;34m\"has_index_names\"\u001b[0m\u001b[1;33m]\u001b[0m \u001b[1;33m=\u001b[0m \u001b[0mkwds\u001b[0m\u001b[1;33m[\u001b[0m\u001b[1;34m\"has_index_names\"\u001b[0m\u001b[1;33m]\u001b[0m\u001b[1;33m\u001b[0m\u001b[1;33m\u001b[0m\u001b[0m\n\u001b[0;32m    818\u001b[0m \u001b[1;33m\u001b[0m\u001b[0m\n\u001b[1;32m--> 819\u001b[1;33m         \u001b[0mself\u001b[0m\u001b[1;33m.\u001b[0m\u001b[0m_engine\u001b[0m \u001b[1;33m=\u001b[0m \u001b[0mself\u001b[0m\u001b[1;33m.\u001b[0m\u001b[0m_make_engine\u001b[0m\u001b[1;33m(\u001b[0m\u001b[0mself\u001b[0m\u001b[1;33m.\u001b[0m\u001b[0mengine\u001b[0m\u001b[1;33m)\u001b[0m\u001b[1;33m\u001b[0m\u001b[1;33m\u001b[0m\u001b[0m\n\u001b[0m\u001b[0;32m    820\u001b[0m \u001b[1;33m\u001b[0m\u001b[0m\n\u001b[0;32m    821\u001b[0m     \u001b[1;32mdef\u001b[0m \u001b[0mclose\u001b[0m\u001b[1;33m(\u001b[0m\u001b[0mself\u001b[0m\u001b[1;33m)\u001b[0m\u001b[1;33m:\u001b[0m\u001b[1;33m\u001b[0m\u001b[1;33m\u001b[0m\u001b[0m\n",
      "\u001b[1;32m~\\anaconda3\\lib\\site-packages\\pandas\\io\\parsers.py\u001b[0m in \u001b[0;36m_make_engine\u001b[1;34m(self, engine)\u001b[0m\n\u001b[0;32m   1048\u001b[0m             )\n\u001b[0;32m   1049\u001b[0m         \u001b[1;31m# error: Too many arguments for \"ParserBase\"\u001b[0m\u001b[1;33m\u001b[0m\u001b[1;33m\u001b[0m\u001b[1;33m\u001b[0m\u001b[0m\n\u001b[1;32m-> 1050\u001b[1;33m         \u001b[1;32mreturn\u001b[0m \u001b[0mmapping\u001b[0m\u001b[1;33m[\u001b[0m\u001b[0mengine\u001b[0m\u001b[1;33m]\u001b[0m\u001b[1;33m(\u001b[0m\u001b[0mself\u001b[0m\u001b[1;33m.\u001b[0m\u001b[0mf\u001b[0m\u001b[1;33m,\u001b[0m \u001b[1;33m**\u001b[0m\u001b[0mself\u001b[0m\u001b[1;33m.\u001b[0m\u001b[0moptions\u001b[0m\u001b[1;33m)\u001b[0m  \u001b[1;31m# type: ignore[call-arg]\u001b[0m\u001b[1;33m\u001b[0m\u001b[1;33m\u001b[0m\u001b[0m\n\u001b[0m\u001b[0;32m   1051\u001b[0m \u001b[1;33m\u001b[0m\u001b[0m\n\u001b[0;32m   1052\u001b[0m     \u001b[1;32mdef\u001b[0m \u001b[0m_failover_to_python\u001b[0m\u001b[1;33m(\u001b[0m\u001b[0mself\u001b[0m\u001b[1;33m)\u001b[0m\u001b[1;33m:\u001b[0m\u001b[1;33m\u001b[0m\u001b[1;33m\u001b[0m\u001b[0m\n",
      "\u001b[1;32m~\\anaconda3\\lib\\site-packages\\pandas\\io\\parsers.py\u001b[0m in \u001b[0;36m__init__\u001b[1;34m(self, src, **kwds)\u001b[0m\n\u001b[0;32m   1865\u001b[0m \u001b[1;33m\u001b[0m\u001b[0m\n\u001b[0;32m   1866\u001b[0m         \u001b[1;31m# open handles\u001b[0m\u001b[1;33m\u001b[0m\u001b[1;33m\u001b[0m\u001b[1;33m\u001b[0m\u001b[0m\n\u001b[1;32m-> 1867\u001b[1;33m         \u001b[0mself\u001b[0m\u001b[1;33m.\u001b[0m\u001b[0m_open_handles\u001b[0m\u001b[1;33m(\u001b[0m\u001b[0msrc\u001b[0m\u001b[1;33m,\u001b[0m \u001b[0mkwds\u001b[0m\u001b[1;33m)\u001b[0m\u001b[1;33m\u001b[0m\u001b[1;33m\u001b[0m\u001b[0m\n\u001b[0m\u001b[0;32m   1868\u001b[0m         \u001b[1;32massert\u001b[0m \u001b[0mself\u001b[0m\u001b[1;33m.\u001b[0m\u001b[0mhandles\u001b[0m \u001b[1;32mis\u001b[0m \u001b[1;32mnot\u001b[0m \u001b[1;32mNone\u001b[0m\u001b[1;33m\u001b[0m\u001b[1;33m\u001b[0m\u001b[0m\n\u001b[0;32m   1869\u001b[0m         \u001b[1;32mfor\u001b[0m \u001b[0mkey\u001b[0m \u001b[1;32min\u001b[0m \u001b[1;33m(\u001b[0m\u001b[1;34m\"storage_options\"\u001b[0m\u001b[1;33m,\u001b[0m \u001b[1;34m\"encoding\"\u001b[0m\u001b[1;33m,\u001b[0m \u001b[1;34m\"memory_map\"\u001b[0m\u001b[1;33m,\u001b[0m \u001b[1;34m\"compression\"\u001b[0m\u001b[1;33m)\u001b[0m\u001b[1;33m:\u001b[0m\u001b[1;33m\u001b[0m\u001b[1;33m\u001b[0m\u001b[0m\n",
      "\u001b[1;32m~\\anaconda3\\lib\\site-packages\\pandas\\io\\parsers.py\u001b[0m in \u001b[0;36m_open_handles\u001b[1;34m(self, src, kwds)\u001b[0m\n\u001b[0;32m   1360\u001b[0m         \u001b[0mLet\u001b[0m \u001b[0mthe\u001b[0m \u001b[0mreaders\u001b[0m \u001b[0mopen\u001b[0m \u001b[0mIOHanldes\u001b[0m \u001b[0mafter\u001b[0m \u001b[0mthey\u001b[0m \u001b[0mare\u001b[0m \u001b[0mdone\u001b[0m \u001b[1;32mwith\u001b[0m \u001b[0mtheir\u001b[0m \u001b[0mpotential\u001b[0m \u001b[0mraises\u001b[0m\u001b[1;33m.\u001b[0m\u001b[1;33m\u001b[0m\u001b[1;33m\u001b[0m\u001b[0m\n\u001b[0;32m   1361\u001b[0m         \"\"\"\n\u001b[1;32m-> 1362\u001b[1;33m         self.handles = get_handle(\n\u001b[0m\u001b[0;32m   1363\u001b[0m             \u001b[0msrc\u001b[0m\u001b[1;33m,\u001b[0m\u001b[1;33m\u001b[0m\u001b[1;33m\u001b[0m\u001b[0m\n\u001b[0;32m   1364\u001b[0m             \u001b[1;34m\"r\"\u001b[0m\u001b[1;33m,\u001b[0m\u001b[1;33m\u001b[0m\u001b[1;33m\u001b[0m\u001b[0m\n",
      "\u001b[1;32m~\\anaconda3\\lib\\site-packages\\pandas\\io\\common.py\u001b[0m in \u001b[0;36mget_handle\u001b[1;34m(path_or_buf, mode, encoding, compression, memory_map, is_text, errors, storage_options)\u001b[0m\n\u001b[0;32m    640\u001b[0m                 \u001b[0merrors\u001b[0m \u001b[1;33m=\u001b[0m \u001b[1;34m\"replace\"\u001b[0m\u001b[1;33m\u001b[0m\u001b[1;33m\u001b[0m\u001b[0m\n\u001b[0;32m    641\u001b[0m             \u001b[1;31m# Encoding\u001b[0m\u001b[1;33m\u001b[0m\u001b[1;33m\u001b[0m\u001b[1;33m\u001b[0m\u001b[0m\n\u001b[1;32m--> 642\u001b[1;33m             handle = open(\n\u001b[0m\u001b[0;32m    643\u001b[0m                 \u001b[0mhandle\u001b[0m\u001b[1;33m,\u001b[0m\u001b[1;33m\u001b[0m\u001b[1;33m\u001b[0m\u001b[0m\n\u001b[0;32m    644\u001b[0m                 \u001b[0mioargs\u001b[0m\u001b[1;33m.\u001b[0m\u001b[0mmode\u001b[0m\u001b[1;33m,\u001b[0m\u001b[1;33m\u001b[0m\u001b[1;33m\u001b[0m\u001b[0m\n",
      "\u001b[1;31mFileNotFoundError\u001b[0m: [Errno 2] No such file or directory: 'C:\\\\Users\\\\sreev\\\\glass.csv'"
     ]
    }
   ],
   "source": [
    "# Program -2:Implementing Naive-bayes ,SVM using scikit-learn library on glass data set\n",
    "\n",
    "#importing libraries\n",
    "import pandas as pd\n",
    "import numpy as np\n",
    "import seaborn as sns\n",
    "from sklearn.naive_bayes import GaussianNB\n",
    "from sklearn.metrics import confusion_matrix\n",
    "from sklearn.metrics import accuracy_score\n",
    "from sklearn.model_selection import train_test_split\n",
    "import matplotlib.pyplot as plt\n",
    "from sklearn.metrics import classification_report, r2_score\n",
    "\n",
    "#importing dataset\n",
    "glassdf = pd.read_csv(\"C:\\\\Users\\\\sreev\\\\glass.csv\")\n"
   ]
  },
  {
   "cell_type": "code",
   "execution_count": 21,
   "id": "27697898",
   "metadata": {},
   "outputs": [
    {
     "data": {
      "text/plain": [
       "array(['RI', 'Na', 'Mg', 'Al', 'Si', 'K', 'Ca', 'Ba', 'Fe', 'Type'],\n",
       "      dtype=object)"
      ]
     },
     "execution_count": 21,
     "metadata": {},
     "output_type": "execute_result"
    }
   ],
   "source": [
    "# peeking in to data\n",
    "# gives the column names\n",
    "glassdf.columns.values"
   ]
  },
  {
   "cell_type": "code",
   "execution_count": 22,
   "id": "016f4422",
   "metadata": {},
   "outputs": [
    {
     "data": {
      "text/html": [
       "<div>\n",
       "<style scoped>\n",
       "    .dataframe tbody tr th:only-of-type {\n",
       "        vertical-align: middle;\n",
       "    }\n",
       "\n",
       "    .dataframe tbody tr th {\n",
       "        vertical-align: top;\n",
       "    }\n",
       "\n",
       "    .dataframe thead th {\n",
       "        text-align: right;\n",
       "    }\n",
       "</style>\n",
       "<table border=\"1\" class=\"dataframe\">\n",
       "  <thead>\n",
       "    <tr style=\"text-align: right;\">\n",
       "      <th></th>\n",
       "      <th>RI</th>\n",
       "      <th>Na</th>\n",
       "      <th>Mg</th>\n",
       "      <th>Al</th>\n",
       "      <th>Si</th>\n",
       "      <th>K</th>\n",
       "      <th>Ca</th>\n",
       "      <th>Ba</th>\n",
       "      <th>Fe</th>\n",
       "      <th>Type</th>\n",
       "    </tr>\n",
       "  </thead>\n",
       "  <tbody>\n",
       "    <tr>\n",
       "      <th>0</th>\n",
       "      <td>1.52101</td>\n",
       "      <td>13.64</td>\n",
       "      <td>4.49</td>\n",
       "      <td>1.10</td>\n",
       "      <td>71.78</td>\n",
       "      <td>0.06</td>\n",
       "      <td>8.75</td>\n",
       "      <td>0.0</td>\n",
       "      <td>0.0</td>\n",
       "      <td>1</td>\n",
       "    </tr>\n",
       "    <tr>\n",
       "      <th>1</th>\n",
       "      <td>1.51761</td>\n",
       "      <td>13.89</td>\n",
       "      <td>3.60</td>\n",
       "      <td>1.36</td>\n",
       "      <td>72.73</td>\n",
       "      <td>0.48</td>\n",
       "      <td>7.83</td>\n",
       "      <td>0.0</td>\n",
       "      <td>0.0</td>\n",
       "      <td>1</td>\n",
       "    </tr>\n",
       "    <tr>\n",
       "      <th>2</th>\n",
       "      <td>1.51618</td>\n",
       "      <td>13.53</td>\n",
       "      <td>3.55</td>\n",
       "      <td>1.54</td>\n",
       "      <td>72.99</td>\n",
       "      <td>0.39</td>\n",
       "      <td>7.78</td>\n",
       "      <td>0.0</td>\n",
       "      <td>0.0</td>\n",
       "      <td>1</td>\n",
       "    </tr>\n",
       "    <tr>\n",
       "      <th>3</th>\n",
       "      <td>1.51766</td>\n",
       "      <td>13.21</td>\n",
       "      <td>3.69</td>\n",
       "      <td>1.29</td>\n",
       "      <td>72.61</td>\n",
       "      <td>0.57</td>\n",
       "      <td>8.22</td>\n",
       "      <td>0.0</td>\n",
       "      <td>0.0</td>\n",
       "      <td>1</td>\n",
       "    </tr>\n",
       "    <tr>\n",
       "      <th>4</th>\n",
       "      <td>1.51742</td>\n",
       "      <td>13.27</td>\n",
       "      <td>3.62</td>\n",
       "      <td>1.24</td>\n",
       "      <td>73.08</td>\n",
       "      <td>0.55</td>\n",
       "      <td>8.07</td>\n",
       "      <td>0.0</td>\n",
       "      <td>0.0</td>\n",
       "      <td>1</td>\n",
       "    </tr>\n",
       "  </tbody>\n",
       "</table>\n",
       "</div>"
      ],
      "text/plain": [
       "        RI     Na    Mg    Al     Si     K    Ca   Ba   Fe  Type\n",
       "0  1.52101  13.64  4.49  1.10  71.78  0.06  8.75  0.0  0.0     1\n",
       "1  1.51761  13.89  3.60  1.36  72.73  0.48  7.83  0.0  0.0     1\n",
       "2  1.51618  13.53  3.55  1.54  72.99  0.39  7.78  0.0  0.0     1\n",
       "3  1.51766  13.21  3.69  1.29  72.61  0.57  8.22  0.0  0.0     1\n",
       "4  1.51742  13.27  3.62  1.24  73.08  0.55  8.07  0.0  0.0     1"
      ]
     },
     "execution_count": 22,
     "metadata": {},
     "output_type": "execute_result"
    }
   ],
   "source": [
    "#gives the unique count of Type column\n",
    "glassdf.Type.value_counts()\n",
    "# gives the first 5 rows of data frame\n",
    "glassdf.head()"
   ]
  },
  {
   "cell_type": "code",
   "execution_count": 23,
   "id": "049828e0",
   "metadata": {},
   "outputs": [
    {
     "data": {
      "text/html": [
       "<div>\n",
       "<style scoped>\n",
       "    .dataframe tbody tr th:only-of-type {\n",
       "        vertical-align: middle;\n",
       "    }\n",
       "\n",
       "    .dataframe tbody tr th {\n",
       "        vertical-align: top;\n",
       "    }\n",
       "\n",
       "    .dataframe thead th {\n",
       "        text-align: right;\n",
       "    }\n",
       "</style>\n",
       "<table border=\"1\" class=\"dataframe\">\n",
       "  <thead>\n",
       "    <tr style=\"text-align: right;\">\n",
       "      <th></th>\n",
       "      <th>RI</th>\n",
       "      <th>Na</th>\n",
       "      <th>Mg</th>\n",
       "      <th>Al</th>\n",
       "      <th>Si</th>\n",
       "      <th>K</th>\n",
       "      <th>Ca</th>\n",
       "      <th>Ba</th>\n",
       "      <th>Fe</th>\n",
       "      <th>Type</th>\n",
       "    </tr>\n",
       "  </thead>\n",
       "  <tbody>\n",
       "    <tr>\n",
       "      <th>count</th>\n",
       "      <td>214.000000</td>\n",
       "      <td>214.000000</td>\n",
       "      <td>214.000000</td>\n",
       "      <td>214.000000</td>\n",
       "      <td>214.000000</td>\n",
       "      <td>214.000000</td>\n",
       "      <td>214.000000</td>\n",
       "      <td>214.000000</td>\n",
       "      <td>214.000000</td>\n",
       "      <td>214.000000</td>\n",
       "    </tr>\n",
       "    <tr>\n",
       "      <th>mean</th>\n",
       "      <td>1.518365</td>\n",
       "      <td>13.407850</td>\n",
       "      <td>2.684533</td>\n",
       "      <td>1.444907</td>\n",
       "      <td>72.650935</td>\n",
       "      <td>0.497056</td>\n",
       "      <td>8.956963</td>\n",
       "      <td>0.175047</td>\n",
       "      <td>0.057009</td>\n",
       "      <td>2.780374</td>\n",
       "    </tr>\n",
       "    <tr>\n",
       "      <th>std</th>\n",
       "      <td>0.003037</td>\n",
       "      <td>0.816604</td>\n",
       "      <td>1.442408</td>\n",
       "      <td>0.499270</td>\n",
       "      <td>0.774546</td>\n",
       "      <td>0.652192</td>\n",
       "      <td>1.423153</td>\n",
       "      <td>0.497219</td>\n",
       "      <td>0.097439</td>\n",
       "      <td>2.103739</td>\n",
       "    </tr>\n",
       "    <tr>\n",
       "      <th>min</th>\n",
       "      <td>1.511150</td>\n",
       "      <td>10.730000</td>\n",
       "      <td>0.000000</td>\n",
       "      <td>0.290000</td>\n",
       "      <td>69.810000</td>\n",
       "      <td>0.000000</td>\n",
       "      <td>5.430000</td>\n",
       "      <td>0.000000</td>\n",
       "      <td>0.000000</td>\n",
       "      <td>1.000000</td>\n",
       "    </tr>\n",
       "    <tr>\n",
       "      <th>25%</th>\n",
       "      <td>1.516523</td>\n",
       "      <td>12.907500</td>\n",
       "      <td>2.115000</td>\n",
       "      <td>1.190000</td>\n",
       "      <td>72.280000</td>\n",
       "      <td>0.122500</td>\n",
       "      <td>8.240000</td>\n",
       "      <td>0.000000</td>\n",
       "      <td>0.000000</td>\n",
       "      <td>1.000000</td>\n",
       "    </tr>\n",
       "    <tr>\n",
       "      <th>50%</th>\n",
       "      <td>1.517680</td>\n",
       "      <td>13.300000</td>\n",
       "      <td>3.480000</td>\n",
       "      <td>1.360000</td>\n",
       "      <td>72.790000</td>\n",
       "      <td>0.555000</td>\n",
       "      <td>8.600000</td>\n",
       "      <td>0.000000</td>\n",
       "      <td>0.000000</td>\n",
       "      <td>2.000000</td>\n",
       "    </tr>\n",
       "    <tr>\n",
       "      <th>75%</th>\n",
       "      <td>1.519157</td>\n",
       "      <td>13.825000</td>\n",
       "      <td>3.600000</td>\n",
       "      <td>1.630000</td>\n",
       "      <td>73.087500</td>\n",
       "      <td>0.610000</td>\n",
       "      <td>9.172500</td>\n",
       "      <td>0.000000</td>\n",
       "      <td>0.100000</td>\n",
       "      <td>3.000000</td>\n",
       "    </tr>\n",
       "    <tr>\n",
       "      <th>max</th>\n",
       "      <td>1.533930</td>\n",
       "      <td>17.380000</td>\n",
       "      <td>4.490000</td>\n",
       "      <td>3.500000</td>\n",
       "      <td>75.410000</td>\n",
       "      <td>6.210000</td>\n",
       "      <td>16.190000</td>\n",
       "      <td>3.150000</td>\n",
       "      <td>0.510000</td>\n",
       "      <td>7.000000</td>\n",
       "    </tr>\n",
       "  </tbody>\n",
       "</table>\n",
       "</div>"
      ],
      "text/plain": [
       "               RI          Na          Mg          Al          Si           K  \\\n",
       "count  214.000000  214.000000  214.000000  214.000000  214.000000  214.000000   \n",
       "mean     1.518365   13.407850    2.684533    1.444907   72.650935    0.497056   \n",
       "std      0.003037    0.816604    1.442408    0.499270    0.774546    0.652192   \n",
       "min      1.511150   10.730000    0.000000    0.290000   69.810000    0.000000   \n",
       "25%      1.516523   12.907500    2.115000    1.190000   72.280000    0.122500   \n",
       "50%      1.517680   13.300000    3.480000    1.360000   72.790000    0.555000   \n",
       "75%      1.519157   13.825000    3.600000    1.630000   73.087500    0.610000   \n",
       "max      1.533930   17.380000    4.490000    3.500000   75.410000    6.210000   \n",
       "\n",
       "               Ca          Ba          Fe        Type  \n",
       "count  214.000000  214.000000  214.000000  214.000000  \n",
       "mean     8.956963    0.175047    0.057009    2.780374  \n",
       "std      1.423153    0.497219    0.097439    2.103739  \n",
       "min      5.430000    0.000000    0.000000    1.000000  \n",
       "25%      8.240000    0.000000    0.000000    1.000000  \n",
       "50%      8.600000    0.000000    0.000000    2.000000  \n",
       "75%      9.172500    0.000000    0.100000    3.000000  \n",
       "max     16.190000    3.150000    0.510000    7.000000  "
      ]
     },
     "execution_count": 23,
     "metadata": {},
     "output_type": "execute_result"
    }
   ],
   "source": [
    "# gives brief description of data\n",
    "glassdf.describe()"
   ]
  },
  {
   "cell_type": "code",
   "execution_count": 24,
   "id": "971f2a52",
   "metadata": {},
   "outputs": [
    {
     "data": {
      "text/plain": [
       "RI      0\n",
       "Na      0\n",
       "Mg      0\n",
       "Al      0\n",
       "Si      0\n",
       "K       0\n",
       "Ca      0\n",
       "Ba      0\n",
       "Fe      0\n",
       "Type    0\n",
       "dtype: int64"
      ]
     },
     "execution_count": 24,
     "metadata": {},
     "output_type": "execute_result"
    }
   ],
   "source": [
    "# total number of null rows in a column\n",
    "glassdf.isnull().sum()"
   ]
  },
  {
   "cell_type": "code",
   "execution_count": 25,
   "id": "c26e66c3",
   "metadata": {},
   "outputs": [
    {
     "name": "stdout",
     "output_type": "stream",
     "text": [
      "shape of training data\n",
      "(171, 9) (171,)\n",
      "**************************************************\n",
      "shape of test data\n",
      "(43, 9) (43,)\n"
     ]
    }
   ],
   "source": [
    "# split the data in to train and test data frames\n",
    "glassdf_x = glassdf.drop(['Type'],axis=1)\n",
    "glassdf_y = glassdf['Type']\n",
    "x_train,x_test,y_train,y_test=train_test_split(glassdf_x,glassdf_y,test_size=0.2,random_state=150)\n",
    "print('shape of training data')\n",
    "print(x_train.shape,y_train.shape)\n",
    "print('*'*50)\n",
    "print('shape of test data')\n",
    "print(x_test.shape,y_test.shape)"
   ]
  },
  {
   "cell_type": "code",
   "execution_count": 26,
   "id": "efff602c",
   "metadata": {
    "scrolled": true
   },
   "outputs": [
    {
     "name": "stdout",
     "output_type": "stream",
     "text": [
      "confusion matrix: [[10  1  4  0  0  0]\n",
      " [ 7  3  4  0  0  1]\n",
      " [ 0  0  0  0  0  0]\n",
      " [ 0  4  0  1  0  0]\n",
      " [ 0  0  0  0  2  0]\n",
      " [ 0  0  0  0  0  6]]\n",
      "**************************************************\n",
      "accuracy score: 51.16 %\n",
      "Number of correctly classified samples: 22\n",
      "**************************************************\n",
      "classification report:               precision    recall  f1-score   support\n",
      "\n",
      "           1       0.59      0.67      0.62        15\n",
      "           2       0.38      0.20      0.26        15\n",
      "           3       0.00      0.00      0.00         0\n",
      "           5       1.00      0.20      0.33         5\n",
      "           6       1.00      1.00      1.00         2\n",
      "           7       0.86      1.00      0.92         6\n",
      "\n",
      "    accuracy                           0.51        43\n",
      "   macro avg       0.64      0.51      0.52        43\n",
      "weighted avg       0.62      0.51      0.52        43\n",
      "\n"
     ]
    },
    {
     "name": "stderr",
     "output_type": "stream",
     "text": [
      "C:\\Users\\sreev\\anaconda3\\lib\\site-packages\\sklearn\\metrics\\_classification.py:1221: UndefinedMetricWarning: Recall and F-score are ill-defined and being set to 0.0 in labels with no true samples. Use `zero_division` parameter to control this behavior.\n",
      "  _warn_prf(average, modifier, msg_start, len(result))\n"
     ]
    }
   ],
   "source": [
    "\n",
    "# Finding accuracy by Naive Bayes Model\n",
    "\n",
    "model = GaussianNB()\n",
    "\n",
    "# Fitted the training data sets\n",
    "model.fit(x_train , y_train)\n",
    "\n",
    "# Predict method accepts one argument and predicts the label of new data set\n",
    "y_pred = model.predict(x_test)\n",
    "\n",
    "# confusion matrix is created and printed\n",
    "print(\"confusion matrix:\", confusion_matrix(y_test,y_pred))\n",
    "print('*'*50)\n",
    "\n",
    "# accuracy score is printed\n",
    "print('accuracy score:',round(accuracy_score(y_test,y_pred)*100,2),'%')\n",
    "print('Number of correctly classified samples:',accuracy_score(y_test, y_pred, normalize=False))\n",
    "print('*'*50)\n",
    "\n",
    "# Classification report is generated\n",
    "print('classification report:',classification_report(y_test,y_pred))\n",
    "\n",
    "\n"
   ]
  },
  {
   "cell_type": "code",
   "execution_count": 27,
   "id": "2cc80c20",
   "metadata": {},
   "outputs": [
    {
     "name": "stdout",
     "output_type": "stream",
     "text": [
      "correlation between Ba and Type\n",
      "      Ba    Type\n",
      "0   0.00  2.1875\n",
      "1   0.06  2.0000\n",
      "2   0.09  1.5000\n",
      "3   0.11  1.5000\n",
      "4   0.14  2.0000\n",
      "5   0.15  3.0000\n",
      "6   0.24  5.0000\n",
      "7   0.27  2.0000\n",
      "8   0.40  7.0000\n",
      "9   0.53  7.0000\n",
      "10  0.54  7.0000\n",
      "11  0.56  7.0000\n",
      "12  0.61  7.0000\n",
      "13  0.63  7.0000\n",
      "14  0.64  7.0000\n",
      "15  0.66  7.0000\n",
      "16  0.67  7.0000\n",
      "17  0.69  1.0000\n",
      "18  0.76  7.0000\n",
      "19  0.81  7.0000\n",
      "20  1.06  7.0000\n",
      "21  1.19  7.0000\n",
      "22  1.38  7.0000\n",
      "23  1.55  7.0000\n",
      "24  1.57  7.0000\n",
      "25  1.59  7.0000\n",
      "26  1.63  7.0000\n",
      "27  1.64  7.0000\n",
      "28  1.67  7.0000\n",
      "29  1.68  7.0000\n",
      "30  1.71  7.0000\n",
      "31  2.20  5.0000\n",
      "32  2.88  7.0000\n",
      "33  3.15  2.0000\n",
      "**************************************************\n",
      "correlation between Fe and Type\n",
      "      Fe      Type\n",
      "0   0.00  3.048611\n",
      "1   0.01  7.000000\n",
      "2   0.03  1.000000\n",
      "3   0.05  7.000000\n",
      "4   0.06  1.000000\n",
      "5   0.07  3.000000\n",
      "6   0.08  4.500000\n",
      "7   0.09  3.666667\n",
      "8   0.10  2.000000\n",
      "9   0.11  1.000000\n",
      "10  0.12  2.000000\n",
      "11  0.14  1.666667\n",
      "12  0.15  2.000000\n",
      "13  0.16  1.000000\n",
      "14  0.17  1.714286\n",
      "15  0.18  2.000000\n",
      "16  0.19  1.500000\n",
      "17  0.20  2.000000\n",
      "18  0.21  2.000000\n",
      "19  0.22  1.666667\n",
      "20  0.24  1.714286\n",
      "21  0.25  2.000000\n",
      "22  0.26  1.000000\n",
      "23  0.28  3.000000\n",
      "24  0.29  2.000000\n",
      "25  0.30  1.000000\n",
      "26  0.31  1.000000\n",
      "27  0.32  2.000000\n",
      "28  0.34  2.000000\n",
      "29  0.35  2.000000\n",
      "30  0.37  3.000000\n",
      "31  0.51  5.000000\n",
      "**************************************************\n",
      "correlation between RI and Type\n",
      "          RI  Type\n",
      "0    1.51115   6.0\n",
      "1    1.51131   7.0\n",
      "2    1.51215   1.0\n",
      "3    1.51299   6.0\n",
      "4    1.51316   5.0\n",
      "..       ...   ...\n",
      "173  1.52725   2.0\n",
      "174  1.52739   2.0\n",
      "175  1.52777   2.0\n",
      "176  1.53125   2.0\n",
      "177  1.53393   2.0\n",
      "\n",
      "[178 rows x 2 columns]\n",
      "**************************************************\n",
      "correlation between Na and Type\n",
      "        Na  Type\n",
      "0    10.73   2.0\n",
      "1    11.02   2.0\n",
      "2    11.03   5.0\n",
      "3    11.23   2.0\n",
      "4    11.45   2.0\n",
      "..     ...   ...\n",
      "137  14.99   6.0\n",
      "138  15.01   7.0\n",
      "139  15.15   7.0\n",
      "140  15.79   7.0\n",
      "141  17.38   6.0\n",
      "\n",
      "[142 rows x 2 columns]\n",
      "**************************************************\n",
      "correlation between Mg and Type\n",
      "      Mg      Type\n",
      "0   0.00  5.523810\n",
      "1   0.33  5.000000\n",
      "2   0.78  6.000000\n",
      "3   1.01  2.000000\n",
      "4   1.35  2.000000\n",
      "..   ...       ...\n",
      "89  3.90  2.333333\n",
      "90  3.93  2.000000\n",
      "91  3.97  2.000000\n",
      "92  3.98  2.000000\n",
      "93  4.49  1.000000\n",
      "\n",
      "[94 rows x 2 columns]\n",
      "**************************************************\n"
     ]
    }
   ],
   "source": [
    "# Finding  Correlations\n",
    "print('correlation between Ba and Type')\n",
    "print(glassdf[['Ba','Type']].groupby(['Ba'],as_index=False).mean().sort_values(by ='Ba', ascending ='True'))\n",
    "print('*'*50)\n",
    "print('correlation between Fe and Type')\n",
    "print(glassdf[['Fe','Type']].groupby(['Fe'],as_index=False).mean().sort_values(by='Fe', ascending='True'))\n",
    "print('*'*50)\n",
    "print('correlation between RI and Type')\n",
    "print(glassdf[['RI','Type']].groupby(['RI'],as_index=False).mean().sort_values(by='RI', ascending='True'))\n",
    "print('*'*50)\n",
    "print('correlation between Na and Type')\n",
    "print(glassdf[['Na','Type']].groupby(['Na'],as_index=False).mean().sort_values(by='Na', ascending='True'))\n",
    "print('*'*50)\n",
    "print('correlation between Mg and Type')\n",
    "print(glassdf[['Mg','Type']].groupby(['Mg'],as_index=False).mean().sort_values(by='Mg', ascending='True'))\n",
    "print('*'*50)"
   ]
  },
  {
   "cell_type": "code",
   "execution_count": 28,
   "id": "e476a8bb",
   "metadata": {},
   "outputs": [
    {
     "data": {
      "text/plain": [
       "<seaborn.axisgrid.FacetGrid at 0xc283cb8>"
      ]
     },
     "execution_count": 28,
     "metadata": {},
     "output_type": "execute_result"
    },
    {
     "data": {
      "image/png": "[encoded data removed]",
      "text/plain": [
       "<Figure size 1296x216 with 6 Axes>"
      ]
     },
     "metadata": {
      "needs_background": "light"
     },
     "output_type": "display_data"
    },
    {
     "data": {
      "image/png": "[encoded data removed]",
      "text/plain": [
       "<Figure size 1296x216 with 6 Axes>"
      ]
     },
     "metadata": {
      "needs_background": "light"
     },
     "output_type": "display_data"
    }
   ],
   "source": [
    "\n",
    "# Showed Visualization for atleast two columns \n",
    "g = sns.FacetGrid(glass_df, col='Type')\n",
    "g.map(plt.hist, 'Ba', bins=20)\n",
    "\n",
    "ga = sns.FacetGrid(glass_df, col='Type')\n",
    "ga.map(plt.hist, 'Fe', bins=20)\n",
    "\n",
    "\n"
   ]
  },
  {
   "cell_type": "code",
   "execution_count": 29,
   "id": "0bd41444",
   "metadata": {},
   "outputs": [
    {
     "name": "stdout",
     "output_type": "stream",
     "text": [
      "shape of training data after correlation\n",
      "(171, 7) (171,)\n",
      "**************************************************\n",
      "shape of test data after correlation\n",
      "(43, 7) (43,)\n",
      "classification report after correlation:               precision    recall  f1-score   support\n",
      "\n",
      "           1       0.59      0.67      0.62        15\n",
      "           2       0.38      0.20      0.26        15\n",
      "           3       0.00      0.00      0.00         0\n",
      "           5       1.00      0.20      0.33         5\n",
      "           6       1.00      1.00      1.00         2\n",
      "           7       0.86      1.00      0.92         6\n",
      "\n",
      "    accuracy                           0.51        43\n",
      "   macro avg       0.64      0.51      0.52        43\n",
      "weighted avg       0.62      0.51      0.52        43\n",
      "\n"
     ]
    },
    {
     "name": "stderr",
     "output_type": "stream",
     "text": [
      "C:\\Users\\sreev\\anaconda3\\lib\\site-packages\\sklearn\\metrics\\_classification.py:1221: UndefinedMetricWarning: Recall and F-score are ill-defined and being set to 0.0 in labels with no true samples. Use `zero_division` parameter to control this behavior.\n",
      "  _warn_prf(average, modifier, msg_start, len(result))\n"
     ]
    }
   ],
   "source": [
    "# We could see many null values in Ba and Fe , so we can remove those and will try running Naive Bayes\n",
    "glassdf_corrx = glassdf.drop(['Type','Ba','Fe'],axis=1)\n",
    "glassdf_corry = glassdf['Type']\n",
    "x_train,x_test,y_train,y_test=train_test_split(glassdf_corrx,glassdf_corry,test_size=0.2,random_state=150)\n",
    "print('shape of training data after correlation')\n",
    "print(x_train.shape,y_train.shape)\n",
    "print('*'*50)\n",
    "print('shape of test data after correlation')\n",
    "print(x_test.shape,y_test.shape)\n",
    "print('classification report after correlation:', classification_report(y_test,y_pred))\n",
    "\n"
   ]
  },
  {
   "cell_type": "code",
   "execution_count": 14,
   "id": "0b606ecd",
   "metadata": {
    "scrolled": true
   },
   "outputs": [
    {
     "name": "stdout",
     "output_type": "stream",
     "text": [
      "confusion matrix: [[9 3 3 0 0 0]\n",
      " [9 3 0 1 0 2]\n",
      " [0 0 0 0 0 0]\n",
      " [0 4 0 1 0 0]\n",
      " [0 0 0 0 2 0]\n",
      " [0 0 0 0 5 1]]\n",
      "**************************************************\n",
      "accuracy score: 37.21 %\n",
      "Number of correctly classified samples: 16\n",
      "**************************************************\n",
      "classification report:               precision    recall  f1-score   support\n",
      "\n",
      "           1       0.50      0.60      0.55        15\n",
      "           2       0.30      0.20      0.24        15\n",
      "           3       0.00      0.00      0.00         0\n",
      "           5       0.50      0.20      0.29         5\n",
      "           6       0.29      1.00      0.44         2\n",
      "           7       0.33      0.17      0.22         6\n",
      "\n",
      "    accuracy                           0.37        43\n",
      "   macro avg       0.32      0.36      0.29        43\n",
      "weighted avg       0.40      0.37      0.36        43\n",
      "\n"
     ]
    },
    {
     "name": "stderr",
     "output_type": "stream",
     "text": [
      "C:\\Users\\sreev\\anaconda3\\lib\\site-packages\\sklearn\\metrics\\_classification.py:1221: UndefinedMetricWarning: Recall and F-score are ill-defined and being set to 0.0 in labels with no true samples. Use `zero_division` parameter to control this behavior.\n",
      "  _warn_prf(average, modifier, msg_start, len(result))\n"
     ]
    }
   ],
   "source": [
    "#Finding Accuracy again\n",
    "model = GaussianNB()\n",
    "\n",
    "model.fit(x_train , y_train)\n",
    "\n",
    "y_pred = model.predict(x_test)\n",
    "print(\"confusion matrix:\", confusion_matrix(y_test,y_pred))\n",
    "print('*'*50)\n",
    "print('accuracy score:',round(accuracy_score(y_test,y_pred)*100,2),'%')\n",
    "print('Number of correctly classified samples:',accuracy_score(y_test, y_pred, normalize=False))\n",
    "print('*'*50)\n",
    "print('classification report:',classification_report(y_test,y_pred))\n"
   ]
  },
  {
   "cell_type": "code",
   "execution_count": 30,
   "id": "9301e337",
   "metadata": {},
   "outputs": [],
   "source": [
    "# importing libraries\n",
    "import pandas as pd\n",
    "import numpy as np\n",
    "import seaborn as sns\n",
    "from sklearn.svm import SVC, LinearSVC\n",
    "from sklearn.metrics import confusion_matrix\n",
    "from sklearn.metrics import accuracy_score\n",
    "from sklearn.model_selection import train_test_split\n",
    "import matplotlib.pyplot as plt\n",
    "from sklearn.metrics import classification_report, r2_score\n",
    "# Reading data set\n",
    "glass_df = pd.read_csv('glass.csv')\n",
    "\n"
   ]
  },
  {
   "cell_type": "code",
   "execution_count": 32,
   "id": "12d621b9",
   "metadata": {},
   "outputs": [
    {
     "name": "stdout",
     "output_type": "stream",
     "text": [
      "['RI' 'Na' 'Mg' 'Al' 'Si' 'K' 'Ca' 'Ba' 'Fe' 'Type']\n",
      "2    76\n",
      "1    70\n",
      "7    29\n",
      "3    17\n",
      "5    13\n",
      "6     9\n",
      "Name: Type, dtype: int64\n",
      "        RI     Na    Mg    Al     Si     K    Ca   Ba   Fe  Type\n",
      "0  1.52101  13.64  4.49  1.10  71.78  0.06  8.75  0.0  0.0     1\n",
      "1  1.51761  13.89  3.60  1.36  72.73  0.48  7.83  0.0  0.0     1\n",
      "2  1.51618  13.53  3.55  1.54  72.99  0.39  7.78  0.0  0.0     1\n",
      "3  1.51766  13.21  3.69  1.29  72.61  0.57  8.22  0.0  0.0     1\n",
      "4  1.51742  13.27  3.62  1.24  73.08  0.55  8.07  0.0  0.0     1\n",
      "               RI          Na          Mg          Al          Si           K  \\\n",
      "count  214.000000  214.000000  214.000000  214.000000  214.000000  214.000000   \n",
      "mean     1.518365   13.407850    2.684533    1.444907   72.650935    0.497056   \n",
      "std      0.003037    0.816604    1.442408    0.499270    0.774546    0.652192   \n",
      "min      1.511150   10.730000    0.000000    0.290000   69.810000    0.000000   \n",
      "25%      1.516523   12.907500    2.115000    1.190000   72.280000    0.122500   \n",
      "50%      1.517680   13.300000    3.480000    1.360000   72.790000    0.555000   \n",
      "75%      1.519157   13.825000    3.600000    1.630000   73.087500    0.610000   \n",
      "max      1.533930   17.380000    4.490000    3.500000   75.410000    6.210000   \n",
      "\n",
      "               Ca          Ba          Fe        Type  \n",
      "count  214.000000  214.000000  214.000000  214.000000  \n",
      "mean     8.956963    0.175047    0.057009    2.780374  \n",
      "std      1.423153    0.497219    0.097439    2.103739  \n",
      "min      5.430000    0.000000    0.000000    1.000000  \n",
      "25%      8.240000    0.000000    0.000000    1.000000  \n",
      "50%      8.600000    0.000000    0.000000    2.000000  \n",
      "75%      9.172500    0.000000    0.100000    3.000000  \n",
      "max     16.190000    3.150000    0.510000    7.000000  \n",
      "RI      0\n",
      "Na      0\n",
      "Mg      0\n",
      "Al      0\n",
      "Si      0\n",
      "K       0\n",
      "Ca      0\n",
      "Ba      0\n",
      "Fe      0\n",
      "Type    0\n",
      "dtype: int64\n"
     ]
    }
   ],
   "source": [
    "# Peeking in to data\n",
    "print(glass_df.columns.values)\n",
    "print(glass_df.Type.value_counts())\n",
    "print(glass_df.head())\n",
    "print(glass_df.describe())\n",
    "print(glass_df.isnull().sum())\n"
   ]
  },
  {
   "cell_type": "code",
   "execution_count": 33,
   "id": "7f768cc1",
   "metadata": {},
   "outputs": [
    {
     "name": "stdout",
     "output_type": "stream",
     "text": [
      "Shape of training data\n",
      "(171, 9) (171,)\n",
      "**************************************************\n",
      "Shape of test data\n",
      "(43, 9) (43,)\n"
     ]
    }
   ],
   "source": [
    "# split the data in to train and test data frames\n",
    "glass_df_x = glass_df.drop(['Type'],axis = 1)\n",
    "glass_df_y = glass_df['Type']\n",
    "\n",
    "x_train,x_test,y_train,y_test = train_test_split(glass_df_x,glass_df_y,test_size = 0.2,random_state = 100)\n",
    "\n",
    "print('Shape of training data')\n",
    "print(x_train.shape,y_train.shape)\n",
    "print('*'*50)\n",
    "print('Shape of test data')\n",
    "print(x_test.shape,y_test.shape)"
   ]
  },
  {
   "cell_type": "code",
   "execution_count": 34,
   "id": "6147f1e1",
   "metadata": {},
   "outputs": [
    {
     "name": "stdout",
     "output_type": "stream",
     "text": [
      "confusion matrix :  [[ 9  1  0  0  0  0]\n",
      " [ 8 11  0  0  0  0]\n",
      " [ 2  1  0  0  0  0]\n",
      " [ 0  0  0  4  0  1]\n",
      " [ 0  0  0  0  1  0]\n",
      " [ 0  1  0  0  0  4]]\n",
      "**************************************************\n",
      "accuracy score : 67.44 %\n",
      "number of correctly classified samples:  29\n",
      "**************************************************\n",
      "classification report :                precision    recall  f1-score   support\n",
      "\n",
      "           1       0.47      0.90      0.62        10\n",
      "           2       0.79      0.58      0.67        19\n",
      "           3       0.00      0.00      0.00         3\n",
      "           5       1.00      0.80      0.89         5\n",
      "           6       1.00      1.00      1.00         1\n",
      "           7       0.80      0.80      0.80         5\n",
      "\n",
      "    accuracy                           0.67        43\n",
      "   macro avg       0.68      0.68      0.66        43\n",
      "weighted avg       0.69      0.67      0.66        43\n",
      "\n"
     ]
    },
    {
     "name": "stderr",
     "output_type": "stream",
     "text": [
      "C:\\Users\\sreev\\anaconda3\\lib\\site-packages\\sklearn\\metrics\\_classification.py:1221: UndefinedMetricWarning: Precision and F-score are ill-defined and being set to 0.0 in labels with no predicted samples. Use `zero_division` parameter to control this behavior.\n",
      "  _warn_prf(average, modifier, msg_start, len(result))\n"
     ]
    }
   ],
   "source": [
    "#Finding accuracy using SVC model\n",
    "model = SVC(kernel='linear',C=1).fit(x_train,y_train)\n",
    "y_pred = model.predict(x_test)\n",
    "print('confusion matrix : ' ,confusion_matrix(y_test,y_pred))\n",
    "print('*'*50)\n",
    "print('accuracy score :',round(accuracy_score(y_test,y_pred)*100,2),'%')\n",
    "print('number of correctly classified samples: ' ,accuracy_score(y_test, y_pred, normalize=False))\n",
    "print('*'*50)\n",
    "print('classification report : ' ,classification_report(y_test,y_pred))"
   ]
  },
  {
   "cell_type": "code",
   "execution_count": null,
   "id": "44754932",
   "metadata": {},
   "outputs": [],
   "source": [
    "# Displaying first 5 rows of data frame\n",
    "glass_df.head()\n"
   ]
  },
  {
   "cell_type": "code",
   "execution_count": 35,
   "id": "3787ed50",
   "metadata": {},
   "outputs": [
    {
     "data": {
      "text/plain": [
       "<seaborn.axisgrid.FacetGrid at 0xbdc1358>"
      ]
     },
     "execution_count": 35,
     "metadata": {},
     "output_type": "execute_result"
    },
    {
     "data": {
      "image/png": "[encoded data removed]",
      "text/plain": [
       "<Figure size 1296x216 with 6 Axes>"
      ]
     },
     "metadata": {
      "needs_background": "light"
     },
     "output_type": "display_data"
    },
    {
     "data": {
      "image/png": "[encoded data removed]",
      "text/plain": [
       "<Figure size 1296x216 with 6 Axes>"
      ]
     },
     "metadata": {
      "needs_background": "light"
     },
     "output_type": "display_data"
    },
    {
     "data": {
      "image/png": "[encoded data removed]",
      "text/plain": [
       "<Figure size 1296x216 with 6 Axes>"
      ]
     },
     "metadata": {
      "needs_background": "light"
     },
     "output_type": "display_data"
    },
    {
     "data": {
      "image/png": "[encoded data removed]",
      "text/plain": [
       "<Figure size 1296x216 with 6 Axes>"
      ]
     },
     "metadata": {
      "needs_background": "light"
     },
     "output_type": "display_data"
    },
    {
     "data": {
      "image/png": "[encoded data removed]",
      "text/plain": [
       "<Figure size 1296x216 with 6 Axes>"
      ]
     },
     "metadata": {
      "needs_background": "light"
     },
     "output_type": "display_data"
    }
   ],
   "source": [
    "# Visualization of correlations between columns in data set\n",
    "g = sns.FacetGrid(glass_df, col='Type')\n",
    "g.map(plt.hist, 'Ba', bins=20)\n",
    "\n",
    "ga = sns.FacetGrid(glass_df, col='Type')\n",
    "ga.map(plt.hist, 'Fe', bins=20)\n",
    "\n",
    "g = sns.FacetGrid(glass_df, col='Type')\n",
    "g.map(plt.hist, 'RI', bins=20)\n",
    "\n",
    "g = sns.FacetGrid(glass_df, col='Type')\n",
    "g.map(plt.hist, 'Na', bins=20)\n",
    "\n",
    "g = sns.FacetGrid(glass_df, col='Type')\n",
    "g.map(plt.hist, 'Mg', bins=20)"
   ]
  },
  {
   "cell_type": "code",
   "execution_count": 39,
   "id": "23c5aba7",
   "metadata": {},
   "outputs": [
    {
     "name": "stdout",
     "output_type": "stream",
     "text": [
      "Correlation betwween Ba and Type\n",
      "      Ba    Type\n",
      "0   0.00  2.1875\n",
      "1   0.06  2.0000\n",
      "2   0.09  1.5000\n",
      "3   0.11  1.5000\n",
      "4   0.14  2.0000\n",
      "5   0.15  3.0000\n",
      "6   0.24  5.0000\n",
      "7   0.27  2.0000\n",
      "8   0.40  7.0000\n",
      "9   0.53  7.0000\n",
      "10  0.54  7.0000\n",
      "11  0.56  7.0000\n",
      "12  0.61  7.0000\n",
      "13  0.63  7.0000\n",
      "14  0.64  7.0000\n",
      "15  0.66  7.0000\n",
      "16  0.67  7.0000\n",
      "17  0.69  1.0000\n",
      "18  0.76  7.0000\n",
      "19  0.81  7.0000\n",
      "20  1.06  7.0000\n",
      "21  1.19  7.0000\n",
      "22  1.38  7.0000\n",
      "23  1.55  7.0000\n",
      "24  1.57  7.0000\n",
      "25  1.59  7.0000\n",
      "26  1.63  7.0000\n",
      "27  1.64  7.0000\n",
      "28  1.67  7.0000\n",
      "29  1.68  7.0000\n",
      "30  1.71  7.0000\n",
      "31  2.20  5.0000\n",
      "32  2.88  7.0000\n",
      "33  3.15  2.0000\n",
      "**************************************************\n",
      "Correlation betwween Fe and Type\n",
      "      Fe      Type\n",
      "0   0.00  3.048611\n",
      "1   0.01  7.000000\n",
      "2   0.03  1.000000\n",
      "3   0.05  7.000000\n",
      "4   0.06  1.000000\n",
      "5   0.07  3.000000\n",
      "6   0.08  4.500000\n",
      "7   0.09  3.666667\n",
      "8   0.10  2.000000\n",
      "9   0.11  1.000000\n",
      "10  0.12  2.000000\n",
      "11  0.14  1.666667\n",
      "12  0.15  2.000000\n",
      "13  0.16  1.000000\n",
      "14  0.17  1.714286\n",
      "15  0.18  2.000000\n",
      "16  0.19  1.500000\n",
      "17  0.20  2.000000\n",
      "18  0.21  2.000000\n",
      "19  0.22  1.666667\n",
      "20  0.24  1.714286\n",
      "21  0.25  2.000000\n",
      "22  0.26  1.000000\n",
      "23  0.28  3.000000\n",
      "24  0.29  2.000000\n",
      "25  0.30  1.000000\n",
      "26  0.31  1.000000\n",
      "27  0.32  2.000000\n",
      "28  0.34  2.000000\n",
      "29  0.35  2.000000\n",
      "30  0.37  3.000000\n",
      "31  0.51  5.000000\n",
      "**************************************************\n",
      "Correlation betwween RI and Type\n",
      "          RI  Type\n",
      "0    1.51115   6.0\n",
      "1    1.51131   7.0\n",
      "2    1.51215   1.0\n",
      "3    1.51299   6.0\n",
      "4    1.51316   5.0\n",
      "..       ...   ...\n",
      "173  1.52725   2.0\n",
      "174  1.52739   2.0\n",
      "175  1.52777   2.0\n",
      "176  1.53125   2.0\n",
      "177  1.53393   2.0\n",
      "\n",
      "[178 rows x 2 columns]\n",
      "**************************************************\n",
      "Correlation betwween Na and Type\n",
      "        Na  Type\n",
      "0    10.73   2.0\n",
      "1    11.02   2.0\n",
      "2    11.03   5.0\n",
      "3    11.23   2.0\n",
      "4    11.45   2.0\n",
      "..     ...   ...\n",
      "137  14.99   6.0\n",
      "138  15.01   7.0\n",
      "139  15.15   7.0\n",
      "140  15.79   7.0\n",
      "141  17.38   6.0\n",
      "\n",
      "[142 rows x 2 columns]\n",
      "**************************************************\n",
      "Correlation betwween Mg and Type\n",
      "      Mg      Type\n",
      "0   0.00  5.523810\n",
      "1   0.33  5.000000\n",
      "2   0.78  6.000000\n",
      "3   1.01  2.000000\n",
      "4   1.35  2.000000\n",
      "..   ...       ...\n",
      "89  3.90  2.333333\n",
      "90  3.93  2.000000\n",
      "91  3.97  2.000000\n",
      "92  3.98  2.000000\n",
      "93  4.49  1.000000\n",
      "\n",
      "[94 rows x 2 columns]\n"
     ]
    }
   ],
   "source": [
    "# Performing correlation\n",
    "print('Correlation between Ba and Type')\n",
    "print(glass_df[['Ba','Type']].groupby(['Ba'],as_index = False).mean().sort_values(by = 'Ba', ascending = 'True'))\n",
    "print('*'*50)\n",
    "print('Correlation between Fe and Type')\n",
    "print(glass_df[['Fe','Type']].groupby(['Fe'],as_index = False).mean().sort_values(by = 'Fe', ascending = 'True'))\n",
    "print('*'*50)\n",
    "print('Correlation between RI and Type')\n",
    "print(glass_df[['RI','Type']].groupby(['RI'],as_index = False).mean().sort_values(by = 'RI', ascending = 'True'))\n",
    "print('*'*50)\n",
    "print('Correlation between Na and Type')\n",
    "print(glass_df[['Na','Type']].groupby(['Na'],as_index = False).mean().sort_values(by = 'Na', ascending = 'True'))\n",
    "print('*'*50)\n",
    "print('Correlation between Mg and Type')\n",
    "print(glass_df[['Mg','Type']].groupby(['Mg'],as_index = False).mean().sort_values(by = 'Mg', ascending = 'True'))\n"
   ]
  },
  {
   "cell_type": "code",
   "execution_count": 38,
   "id": "dd1e0506",
   "metadata": {},
   "outputs": [
    {
     "name": "stdout",
     "output_type": "stream",
     "text": [
      "Shape of training data after correlation\n",
      "(171, 7) (171,)\n",
      "**************************************************\n",
      "Shape of test data after correlation\n",
      "(43, 7) (43,)\n"
     ]
    }
   ],
   "source": [
    "# Dropping unnecessary columns from data set\n",
    "glass_df_corr_x = glass_df.drop(['Type','Ba','Fe'],axis = 1)\n",
    "glass_df_corr_y = glass_df['Type']\n",
    "\n",
    "x_train,x_test,y_train,y_test = train_test_split(glass_df_corr_x,glass_df_corr_y,test_size = 0.2,random_state = 100)\n",
    "\n",
    "print('Shape of training data after correlation')\n",
    "print(x_train.shape,y_train.shape)\n",
    "print('*'*50)\n",
    "print('Shape of test data after correlation')\n",
    "print(x_test.shape,y_test.shape)"
   ]
  },
  {
   "cell_type": "code",
   "execution_count": 40,
   "id": "fc481edd",
   "metadata": {
    "scrolled": true
   },
   "outputs": [
    {
     "name": "stdout",
     "output_type": "stream",
     "text": [
      "confusion matrix after correlation:  [[ 9  1  0  0  0  0]\n",
      " [ 8 11  0  0  0  0]\n",
      " [ 2  1  0  0  0  0]\n",
      " [ 0  1  0  3  0  1]\n",
      " [ 0  0  0  0  1  0]\n",
      " [ 0  1  0  0  0  4]]\n",
      "accuracy score after correlation: 65.12 %\n",
      "number of correctly classified samples:  28\n",
      "**************************************************\n",
      "classification report after correlation:                precision    recall  f1-score   support\n",
      "\n",
      "           1       0.47      0.90      0.62        10\n",
      "           2       0.73      0.58      0.65        19\n",
      "           3       0.00      0.00      0.00         3\n",
      "           5       1.00      0.60      0.75         5\n",
      "           6       1.00      1.00      1.00         1\n",
      "           7       0.80      0.80      0.80         5\n",
      "\n",
      "    accuracy                           0.65        43\n",
      "   macro avg       0.67      0.65      0.64        43\n",
      "weighted avg       0.67      0.65      0.63        43\n",
      "\n"
     ]
    },
    {
     "name": "stderr",
     "output_type": "stream",
     "text": [
      "C:\\Users\\sreev\\anaconda3\\lib\\site-packages\\sklearn\\metrics\\_classification.py:1221: UndefinedMetricWarning: Precision and F-score are ill-defined and being set to 0.0 in labels with no predicted samples. Use `zero_division` parameter to control this behavior.\n",
      "  _warn_prf(average, modifier, msg_start, len(result))\n"
     ]
    }
   ],
   "source": [
    "# Finding accuracy again\n",
    "model = SVC(kernel='linear',C=1).fit(x_train,y_train)\n",
    "model.fit(x_train,y_train)\n",
    "y_pred = model.predict(x_test)\n",
    "print('confusion matrix after correlation: ' ,confusion_matrix(y_test,y_pred))\n",
    "print('accuracy score after correlation:',round(accuracy_score(y_test,y_pred)*100,2),'%')\n",
    "print('number of correctly classified samples: ' ,accuracy_score(y_test, y_pred, normalize=False))\n",
    "print('*'*50)\n",
    "print('classification report after correlation: ' ,classification_report(y_test,y_pred))"
   ]
  },
  {
   "cell_type": "markdown",
   "id": "0f885674",
   "metadata": {},
   "source": [
    "#### By comparing Naive Bayes and SVM model we have Naive Bayes accuracy=37.21% and SVM accuracy = 65.12%, SVM accuracy is high and SVM is better  because Naive Bayes deals the output to a particular class (Classification) where as linear SVM tries to find a hyperplane which will maximises the margin and also has optimization function "
   ]
  }
 ],
 "metadata": {
  "kernelspec": {
   "display_name": "Python 3",
   "language": "python",
   "name": "python3"
  },
  "language_info": {
   "codemirror_mode": {
    "name": "ipython",
    "version": 3
   },
   "file_extension": ".py",
   "mimetype": "text/x-python",
   "name": "python",
   "nbconvert_exporter": "python",
   "pygments_lexer": "ipython3",
   "version": "3.8.8"
  }
 },
 "nbformat": 4,
 "nbformat_minor": 5
}
