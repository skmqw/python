{
 "cells": [
  {
   "cell_type": "code",
   "execution_count": 51,
   "id": "e8aea612",
   "metadata": {},
   "outputs": [
    {
     "name": "stdout",
     "output_type": "stream",
     "text": [
      "Output Array: [ 0 18  0 11 18  3 19 11 12 19  1  7  2  8 18]\n",
      "Array Shape: [[ 0 18  0 11 18]\n",
      " [ 3 19 11 12 19]\n",
      " [ 1  7  2  8 18]]\n",
      "19\n"
     ]
    }
   ],
   "source": [
    "import numpy as np\n",
    "Random=np.random.randint(20, size=15)\n",
    "print(\"Output Array:\", Random)\n",
    "\n",
    "b=np.reshape(Random, (3,5))\n",
    "print(\"Array Shape:\", b)\n",
    "\n",
    "c=np.amax(b)\n",
    "print(c)\n",
    "\n",
    "Max_value=np.where(b==np.amax(b,axis=1,keepdims=True),0,b)\n",
    "Max_value\n",
    "\n",
    "d=np.diag(Max_value)\n",
    "d\n",
    "\n",
    "np.savetxt(\"output.txt\", d)"
   ]
  },
  {
   "cell_type": "code",
   "execution_count": null,
   "id": "74c6969a",
   "metadata": {},
   "outputs": [],
   "source": []
  },
  {
   "cell_type": "code",
   "execution_count": null,
   "id": "4a59f377",
   "metadata": {},
   "outputs": [],
   "source": []
  },
  {
   "cell_type": "code",
   "execution_count": null,
   "id": "c2bd7ee6",
   "metadata": {},
   "outputs": [],
   "source": []
  },
  {
   "cell_type": "code",
   "execution_count": null,
   "id": "bdeb47f2",
   "metadata": {},
   "outputs": [],
   "source": []
  },
  {
   "cell_type": "code",
   "execution_count": null,
   "id": "f0d47de9",
   "metadata": {},
   "outputs": [],
   "source": []
  },
  {
   "cell_type": "code",
   "execution_count": null,
   "id": "05b16a82",
   "metadata": {},
   "outputs": [],
   "source": []
  },
  {
   "cell_type": "code",
   "execution_count": null,
   "id": "a7a43493",
   "metadata": {},
   "outputs": [],
   "source": []
  },
  {
   "cell_type": "code",
   "execution_count": null,
   "id": "5c9513d8",
   "metadata": {},
   "outputs": [],
   "source": []
  },
  {
   "cell_type": "code",
   "execution_count": null,
   "id": "41d2e508",
   "metadata": {},
   "outputs": [],
   "source": []
  }
 ],
 "metadata": {
  "kernelspec": {
   "display_name": "Python 3",
   "language": "python",
   "name": "python3"
  },
  "language_info": {
   "codemirror_mode": {
    "name": "ipython",
    "version": 3
   },
   "file_extension": ".py",
   "mimetype": "text/x-python",
   "name": "python",
   "nbconvert_exporter": "python",
   "pygments_lexer": "ipython3",
   "version": "3.8.8"
  }
 },
 "nbformat": 4,
 "nbformat_minor": 5
}
