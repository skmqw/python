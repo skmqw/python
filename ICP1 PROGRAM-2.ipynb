{
 "cells": [
  {
   "cell_type": "code",
   "execution_count": 3,
   "id": "ce5fdc2c",
   "metadata": {},
   "outputs": [
    {
     "name": "stdout",
     "output_type": "stream",
     "text": [
      "I love playing with python\n",
      "I love playing with pythons\n"
     ]
    }
   ],
   "source": [
    "#Program for storing a sentence and replacing each occurrence of ‘python’ with ‘pythons’ without using Regular Expressions.\n",
    "\n",
    "#Providing sample input\n",
    "initial='I love playing with python'\n",
    "\n",
    "#Printing sample input\n",
    "print(initial)\n",
    "\n",
    "#Replacing python with pythons\n",
    "present=initial.replace('python','pythons')\n",
    "\n",
    "#Printing Result\n",
    "print(present)"
   ]
  },
  {
   "cell_type": "code",
   "execution_count": null,
   "id": "5e8c3cb6",
   "metadata": {},
   "outputs": [],
   "source": []
  }
 ],
 "metadata": {
  "kernelspec": {
   "display_name": "Python 3",
   "language": "python",
   "name": "python3"
  },
  "language_info": {
   "codemirror_mode": {
    "name": "ipython",
    "version": 3
   },
   "file_extension": ".py",
   "mimetype": "text/x-python",
   "name": "python",
   "nbconvert_exporter": "python",
   "pygments_lexer": "ipython3",
   "version": "3.8.8"
  }
 },
 "nbformat": 4,
 "nbformat_minor": 5
}
